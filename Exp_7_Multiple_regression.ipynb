{
  "nbformat": 4,
  "nbformat_minor": 0,
  "metadata": {
    "colab": {
      "provenance": [],
      "include_colab_link": true
    },
    "kernelspec": {
      "name": "python3",
      "display_name": "Python 3"
    },
    "language_info": {
      "name": "python"
    }
  },
  "cells": [
    {
      "cell_type": "markdown",
      "metadata": {
        "id": "view-in-github",
        "colab_type": "text"
      },
      "source": [
        "<a href=\"https://colab.research.google.com/github/dhruv21csu155/AIML/blob/main/Exp_7_Multiple_regression.ipynb\" target=\"_parent\"><img src=\"https://colab.research.google.com/assets/colab-badge.svg\" alt=\"Open In Colab\"/></a>"
      ]
    },
    {
      "cell_type": "markdown",
      "source": [
        "for a simple linear regression line is of the form :\n",
        "\n",
        "y = mx+c\n",
        "\n",
        "for example if we take a simple example, :\n",
        "\n",
        "feature 1: TV\n",
        "\n",
        "feature 2: radio\n",
        "\n",
        "feature 3:  Newspaper\n",
        "\n",
        "output variable: sales\n",
        "\n",
        "Independent variables are the features feature1 , feature 2 and feature 3. Dependent variable is sales. The equation for this problem will be:\n",
        "\n",
        "y = b0+b1x1+b2x2+b3x3\n",
        "\n",
        "x1, x2 and x3 are the feature variables."
      ],
      "metadata": {
        "id": "rKBRzVQ_Ah8e"
      }
    },
    {
      "cell_type": "markdown",
      "source": [
        "![image.png](data:image/png;base64,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)"
      ],
      "metadata": {
        "id": "ORtNQyNLAlRl"
      }
    },
    {
      "cell_type": "markdown",
      "source": [
        "here, y is the dependent variable.\n",
        "\n",
        "x1, x2,x3,… are independent variables.\n",
        "b0 =intercept of the line.\n",
        "b1, b2, … are coefficients."
      ],
      "metadata": {
        "id": "J-axmkI3ApuD"
      }
    },
    {
      "cell_type": "code",
      "execution_count": null,
      "metadata": {
        "id": "nooQmwaMAEA1"
      },
      "outputs": [],
      "source": [
        "# importing modules and packages\n",
        "import pandas as pd\n",
        "import numpy as np\n",
        "import matplotlib.pyplot as plt\n",
        "import seaborn as sns\n",
        "from sklearn.model_selection import train_test_split\n",
        "from sklearn.linear_model import LinearRegression\n",
        "from sklearn.metrics import mean_squared_error, mean_absolute_error\n",
        "from sklearn import preprocessing\n"
      ]
    },
    {
      "cell_type": "code",
      "source": [
        "# importing data\n",
        "df = pd.read_csv('https://raw.githubusercontent.com/Ashutosh-Gairola/I-AI-ML/main/Real-estate1.csv')\n",
        "df.drop('No', inplace = True,axis=1)"
      ],
      "metadata": {
        "id": "t0BjtPkiCGRs"
      },
      "execution_count": null,
      "outputs": []
    },
    {
      "cell_type": "code",
      "source": [
        "print(df.columns)"
      ],
      "metadata": {
        "id": "vNWTJdYxCRN0",
        "outputId": "c7cf5c97-bf61-43ff-d524-93392a26dadb",
        "colab": {
          "base_uri": "https://localhost:8080/"
        }
      },
      "execution_count": null,
      "outputs": [
        {
          "output_type": "stream",
          "name": "stdout",
          "text": [
            "Index(['X1 transaction date', 'X2 house age',\n",
            "       'X3 distance to the nearest MRT station',\n",
            "       'X4 number of convenience stores', 'X5 latitude', 'X6 longitude',\n",
            "       'Y house price of unit area'],\n",
            "      dtype='object')\n"
          ]
        }
      ]
    },
    {
      "cell_type": "code",
      "source": [
        "print(df.head())\n",
        "\n"
      ],
      "metadata": {
        "id": "C6hPrMQIA3Am",
        "outputId": "51c37981-0998-4434-9f38-b25094227d88",
        "colab": {
          "base_uri": "https://localhost:8080/"
        }
      },
      "execution_count": null,
      "outputs": [
        {
          "output_type": "stream",
          "name": "stdout",
          "text": [
            "   X1 transaction date  X2 house age  X3 distance to the nearest MRT station  \\\n",
            "0             2012.917          32.0                                84.87882   \n",
            "1             2012.917          19.5                               306.59470   \n",
            "2             2013.583          13.3                               561.98450   \n",
            "3             2013.500          13.3                               561.98450   \n",
            "4             2012.833           5.0                               390.56840   \n",
            "\n",
            "   X4 number of convenience stores  X5 latitude  X6 longitude  \\\n",
            "0                               10     24.98298     121.54024   \n",
            "1                                9     24.98034     121.53951   \n",
            "2                                5     24.98746     121.54391   \n",
            "3                                5     24.98746     121.54391   \n",
            "4                                5     24.97937     121.54245   \n",
            "\n",
            "   Y house price of unit area  \n",
            "0                        37.9  \n",
            "1                        42.2  \n",
            "2                        47.3  \n",
            "3                        54.8  \n",
            "4                        43.1  \n"
          ]
        }
      ]
    },
    {
      "cell_type": "code",
      "source": [
        "# plotting a scatterplot\n",
        "sns.scatterplot(x='X4 number of convenience stores',\n",
        "\t\t\t\ty='Y house price of unit area', data=df)\n"
      ],
      "metadata": {
        "id": "NYh-ZJ64A_Rb",
        "outputId": "53e31011-276a-446c-989c-2bcf938f893d",
        "colab": {
          "base_uri": "https://localhost:8080/",
          "height": 466
        }
      },
      "execution_count": null,
      "outputs": [
        {
          "output_type": "execute_result",
          "data": {
            "text/plain": [
              "<Axes: xlabel='X4 number of convenience stores', ylabel='Y house price of unit area'>"
            ]
          },
          "metadata": {},
          "execution_count": 5
        },
        {
          "output_type": "display_data",
          "data": {
            "text/plain": [
              "<Figure size 640x480 with 1 Axes>"
            ],
            "image/png": "[encoded data removed]"
          },
          "metadata": {}
        }
      ]
    },
    {
      "cell_type": "code",
      "source": [
        "df.info()"
      ],
      "metadata": {
        "id": "XtoVhItuClzs",
        "outputId": "51e764f5-2829-48ae-9268-30c6014ac80c",
        "colab": {
          "base_uri": "https://localhost:8080/"
        }
      },
      "execution_count": null,
      "outputs": [
        {
          "output_type": "stream",
          "name": "stdout",
          "text": [
            "<class 'pandas.core.frame.DataFrame'>\n",
            "RangeIndex: 414 entries, 0 to 413\n",
            "Data columns (total 7 columns):\n",
            " #   Column                                  Non-Null Count  Dtype  \n",
            "---  ------                                  --------------  -----  \n",
            " 0   X1 transaction date                     414 non-null    float64\n",
            " 1   X2 house age                            414 non-null    float64\n",
            " 2   X3 distance to the nearest MRT station  414 non-null    float64\n",
            " 3   X4 number of convenience stores         414 non-null    int64  \n",
            " 4   X5 latitude                             414 non-null    float64\n",
            " 5   X6 longitude                            414 non-null    float64\n",
            " 6   Y house price of unit area              414 non-null    float64\n",
            "dtypes: float64(6), int64(1)\n",
            "memory usage: 22.8 KB\n"
          ]
        }
      ]
    },
    {
      "cell_type": "code",
      "source": [
        "df.isnull().sum()"
      ],
      "metadata": {
        "id": "Dk3pq5iICqty",
        "outputId": "c83fd1c5-f9d3-45c0-accf-0fb3e6b59d17",
        "colab": {
          "base_uri": "https://localhost:8080/"
        }
      },
      "execution_count": null,
      "outputs": [
        {
          "output_type": "execute_result",
          "data": {
            "text/plain": [
              "X1 transaction date                       0\n",
              "X2 house age                              0\n",
              "X3 distance to the nearest MRT station    0\n",
              "X4 number of convenience stores           0\n",
              "X5 latitude                               0\n",
              "X6 longitude                              0\n",
              "Y house price of unit area                0\n",
              "dtype: int64"
            ]
          },
          "metadata": {},
          "execution_count": 7
        }
      ]
    },
    {
      "cell_type": "code",
      "source": [
        "df.describe()"
      ],
      "metadata": {
        "id": "DgSPou_OChK1",
        "outputId": "e1b249b4-0594-47ab-9962-22eab514a6e7",
        "colab": {
          "base_uri": "https://localhost:8080/",
          "height": 300
        }
      },
      "execution_count": null,
      "outputs": [
        {
          "output_type": "execute_result",
          "data": {
            "text/plain": [
              "       X1 transaction date  X2 house age  \\\n",
              "count           414.000000    414.000000   \n",
              "mean           2013.148971     17.712560   \n",
              "std               0.281967     11.392485   \n",
              "min            2012.667000      0.000000   \n",
              "25%            2012.917000      9.025000   \n",
              "50%            2013.167000     16.100000   \n",
              "75%            2013.417000     28.150000   \n",
              "max            2013.583000     43.800000   \n",
              "\n",
              "       X3 distance to the nearest MRT station  \\\n",
              "count                              414.000000   \n",
              "mean                              1083.885689   \n",
              "std                               1262.109595   \n",
              "min                                 23.382840   \n",
              "25%                                289.324800   \n",
              "50%                                492.231300   \n",
              "75%                               1454.279000   \n",
              "max                               6488.021000   \n",
              "\n",
              "       X4 number of convenience stores  X5 latitude  X6 longitude  \\\n",
              "count                       414.000000   414.000000    414.000000   \n",
              "mean                          4.094203    24.969030    121.533361   \n",
              "std                           2.945562     0.012410      0.015347   \n",
              "min                           0.000000    24.932070    121.473530   \n",
              "25%                           1.000000    24.963000    121.528085   \n",
              "50%                           4.000000    24.971100    121.538630   \n",
              "75%                           6.000000    24.977455    121.543305   \n",
              "max                          10.000000    25.014590    121.566270   \n",
              "\n",
              "       Y house price of unit area  \n",
              "count                  414.000000  \n",
              "mean                    37.980193  \n",
              "std                     13.606488  \n",
              "min                      7.600000  \n",
              "25%                     27.700000  \n",
              "50%                     38.450000  \n",
              "75%                     46.600000  \n",
              "max                    117.500000  "
            ],
            "text/html": [
              "\n",
              "  <div id=\"df-1550fda6-ea19-4f07-b870-72e445e36d0a\" class=\"colab-df-container\">\n",
              "    <div>\n",
              "<style scoped>\n",
              "    .dataframe tbody tr th:only-of-type {\n",
              "        vertical-align: middle;\n",
              "    }\n",
              "\n",
              "    .dataframe tbody tr th {\n",
              "        vertical-align: top;\n",
              "    }\n",
              "\n",
              "    .dataframe thead th {\n",
              "        text-align: right;\n",
              "    }\n",
              "</style>\n",
              "<table border=\"1\" class=\"dataframe\">\n",
              "  <thead>\n",
              "    <tr style=\"text-align: right;\">\n",
              "      <th></th>\n",
              "      <th>X1 transaction date</th>\n",
              "      <th>X2 house age</th>\n",
              "      <th>X3 distance to the nearest MRT station</th>\n",
              "      <th>X4 number of convenience stores</th>\n",
              "      <th>X5 latitude</th>\n",
              "      <th>X6 longitude</th>\n",
              "      <th>Y house price of unit area</th>\n",
              "    </tr>\n",
              "  </thead>\n",
              "  <tbody>\n",
              "    <tr>\n",
              "      <th>count</th>\n",
              "      <td>414.000000</td>\n",
              "      <td>414.000000</td>\n",
              "      <td>414.000000</td>\n",
              "      <td>414.000000</td>\n",
              "      <td>414.000000</td>\n",
              "      <td>414.000000</td>\n",
              "      <td>414.000000</td>\n",
              "    </tr>\n",
              "    <tr>\n",
              "      <th>mean</th>\n",
              "      <td>2013.148971</td>\n",
              "      <td>17.712560</td>\n",
              "      <td>1083.885689</td>\n",
              "      <td>4.094203</td>\n",
              "      <td>24.969030</td>\n",
              "      <td>121.533361</td>\n",
              "      <td>37.980193</td>\n",
              "    </tr>\n",
              "    <tr>\n",
              "      <th>std</th>\n",
              "      <td>0.281967</td>\n",
              "      <td>11.392485</td>\n",
              "      <td>1262.109595</td>\n",
              "      <td>2.945562</td>\n",
              "      <td>0.012410</td>\n",
              "      <td>0.015347</td>\n",
              "      <td>13.606488</td>\n",
              "    </tr>\n",
              "    <tr>\n",
              "      <th>min</th>\n",
              "      <td>2012.667000</td>\n",
              "      <td>0.000000</td>\n",
              "      <td>23.382840</td>\n",
              "      <td>0.000000</td>\n",
              "      <td>24.932070</td>\n",
              "      <td>121.473530</td>\n",
              "      <td>7.600000</td>\n",
              "    </tr>\n",
              "    <tr>\n",
              "      <th>25%</th>\n",
              "      <td>2012.917000</td>\n",
              "      <td>9.025000</td>\n",
              "      <td>289.324800</td>\n",
              "      <td>1.000000</td>\n",
              "      <td>24.963000</td>\n",
              "      <td>121.528085</td>\n",
              "      <td>27.700000</td>\n",
              "    </tr>\n",
              "    <tr>\n",
              "      <th>50%</th>\n",
              "      <td>2013.167000</td>\n",
              "      <td>16.100000</td>\n",
              "      <td>492.231300</td>\n",
              "      <td>4.000000</td>\n",
              "      <td>24.971100</td>\n",
              "      <td>121.538630</td>\n",
              "      <td>38.450000</td>\n",
              "    </tr>\n",
              "    <tr>\n",
              "      <th>75%</th>\n",
              "      <td>2013.417000</td>\n",
              "      <td>28.150000</td>\n",
              "      <td>1454.279000</td>\n",
              "      <td>6.000000</td>\n",
              "      <td>24.977455</td>\n",
              "      <td>121.543305</td>\n",
              "      <td>46.600000</td>\n",
              "    </tr>\n",
              "    <tr>\n",
              "      <th>max</th>\n",
              "      <td>2013.583000</td>\n",
              "      <td>43.800000</td>\n",
              "      <td>6488.021000</td>\n",
              "      <td>10.000000</td>\n",
              "      <td>25.014590</td>\n",
              "      <td>121.566270</td>\n",
              "      <td>117.500000</td>\n",
              "    </tr>\n",
              "  </tbody>\n",
              "</table>\n",
              "</div>\n",
              "    <div class=\"colab-df-buttons\">\n",
              "\n",
              "  <div class=\"colab-df-container\">\n",
              "    <button class=\"colab-df-convert\" onclick=\"convertToInteractive('df-1550fda6-ea19-4f07-b870-72e445e36d0a')\"\n",
              "            title=\"Convert this dataframe to an interactive table.\"\n",
              "            style=\"display:none;\">\n",
              "\n",
              "  <svg xmlns=\"http://www.w3.org/2000/svg\" height=\"24px\" viewBox=\"0 -960 960 960\">\n",
              "    <path d=\"M120-120v-720h720v720H120Zm60-500h600v-160H180v160Zm220 220h160v-160H400v160Zm0 220h160v-160H400v160ZM180-400h160v-160H180v160Zm440 0h160v-160H620v160ZM180-180h160v-160H180v160Zm440 0h160v-160H620v160Z\"/>\n",
              "  </svg>\n",
              "    </button>\n",
              "\n",
              "  <style>\n",
              "    .colab-df-container {\n",
              "      display:flex;\n",
              "      gap: 12px;\n",
              "    }\n",
              "\n",
              "    .colab-df-convert {\n",
              "      background-color: #E8F0FE;\n",
              "      border: none;\n",
              "      border-radius: 50%;\n",
              "      cursor: pointer;\n",
              "      display: none;\n",
              "      fill: #1967D2;\n",
              "      height: 32px;\n",
              "      padding: 0 0 0 0;\n",
              "      width: 32px;\n",
              "    }\n",
              "\n",
              "    .colab-df-convert:hover {\n",
              "      background-color: #E2EBFA;\n",
              "      box-shadow: 0px 1px 2px rgba(60, 64, 67, 0.3), 0px 1px 3px 1px rgba(60, 64, 67, 0.15);\n",
              "      fill: #174EA6;\n",
              "    }\n",
              "\n",
              "    .colab-df-buttons div {\n",
              "      margin-bottom: 4px;\n",
              "    }\n",
              "\n",
              "    [theme=dark] .colab-df-convert {\n",
              "      background-color: #3B4455;\n",
              "      fill: #D2E3FC;\n",
              "    }\n",
              "\n",
              "    [theme=dark] .colab-df-convert:hover {\n",
              "      background-color: #434B5C;\n",
              "      box-shadow: 0px 1px 3px 1px rgba(0, 0, 0, 0.15);\n",
              "      filter: drop-shadow(0px 1px 2px rgba(0, 0, 0, 0.3));\n",
              "      fill: #FFFFFF;\n",
              "    }\n",
              "  </style>\n",
              "\n",
              "    <script>\n",
              "      const buttonEl =\n",
              "        document.querySelector('#df-1550fda6-ea19-4f07-b870-72e445e36d0a button.colab-df-convert');\n",
              "      buttonEl.style.display =\n",
              "        google.colab.kernel.accessAllowed ? 'block' : 'none';\n",
              "\n",
              "      async function convertToInteractive(key) {\n",
              "        const element = document.querySelector('#df-1550fda6-ea19-4f07-b870-72e445e36d0a');\n",
              "        const dataTable =\n",
              "          await google.colab.kernel.invokeFunction('convertToInteractive',\n",
              "                                                    [key], {});\n",
              "        if (!dataTable) return;\n",
              "\n",
              "        const docLinkHtml = 'Like what you see? Visit the ' +\n",
              "          '<a target=\"_blank\" href=https://colab.research.google.com/notebooks/data_table.ipynb>data table notebook</a>'\n",
              "          + ' to learn more about interactive tables.';\n",
              "        element.innerHTML = '';\n",
              "        dataTable['output_type'] = 'display_data';\n",
              "        await google.colab.output.renderOutput(dataTable, element);\n",
              "        const docLink = document.createElement('div');\n",
              "        docLink.innerHTML = docLinkHtml;\n",
              "        element.appendChild(docLink);\n",
              "      }\n",
              "    </script>\n",
              "  </div>\n",
              "\n",
              "\n",
              "<div id=\"df-032ee47a-ba9a-4fe9-8d92-2a303d1c7e21\">\n",
              "  <button class=\"colab-df-quickchart\" onclick=\"quickchart('df-032ee47a-ba9a-4fe9-8d92-2a303d1c7e21')\"\n",
              "            title=\"Suggest charts\"\n",
              "            style=\"display:none;\">\n",
              "\n",
              "<svg xmlns=\"http://www.w3.org/2000/svg\" height=\"24px\"viewBox=\"0 0 24 24\"\n",
              "     width=\"24px\">\n",
              "    <g>\n",
              "        <path d=\"M19 3H5c-1.1 0-2 .9-2 2v14c0 1.1.9 2 2 2h14c1.1 0 2-.9 2-2V5c0-1.1-.9-2-2-2zM9 17H7v-7h2v7zm4 0h-2V7h2v10zm4 0h-2v-4h2v4z\"/>\n",
              "    </g>\n",
              "</svg>\n",
              "  </button>\n",
              "\n",
              "<style>\n",
              "  .colab-df-quickchart {\n",
              "      --bg-color: #E8F0FE;\n",
              "      --fill-color: #1967D2;\n",
              "      --hover-bg-color: #E2EBFA;\n",
              "      --hover-fill-color: #174EA6;\n",
              "      --disabled-fill-color: #AAA;\n",
              "      --disabled-bg-color: #DDD;\n",
              "  }\n",
              "\n",
              "  [theme=dark] .colab-df-quickchart {\n",
              "      --bg-color: #3B4455;\n",
              "      --fill-color: #D2E3FC;\n",
              "      --hover-bg-color: #434B5C;\n",
              "      --hover-fill-color: #FFFFFF;\n",
              "      --disabled-bg-color: #3B4455;\n",
              "      --disabled-fill-color: #666;\n",
              "  }\n",
              "\n",
              "  .colab-df-quickchart {\n",
              "    background-color: var(--bg-color);\n",
              "    border: none;\n",
              "    border-radius: 50%;\n",
              "    cursor: pointer;\n",
              "    display: none;\n",
              "    fill: var(--fill-color);\n",
              "    height: 32px;\n",
              "    padding: 0;\n",
              "    width: 32px;\n",
              "  }\n",
              "\n",
              "  .colab-df-quickchart:hover {\n",
              "    background-color: var(--hover-bg-color);\n",
              "    box-shadow: 0 1px 2px rgba(60, 64, 67, 0.3), 0 1px 3px 1px rgba(60, 64, 67, 0.15);\n",
              "    fill: var(--button-hover-fill-color);\n",
              "  }\n",
              "\n",
              "  .colab-df-quickchart-complete:disabled,\n",
              "  .colab-df-quickchart-complete:disabled:hover {\n",
              "    background-color: var(--disabled-bg-color);\n",
              "    fill: var(--disabled-fill-color);\n",
              "    box-shadow: none;\n",
              "  }\n",
              "\n",
              "  .colab-df-spinner {\n",
              "    border: 2px solid var(--fill-color);\n",
              "    border-color: transparent;\n",
              "    border-bottom-color: var(--fill-color);\n",
              "    animation:\n",
              "      spin 1s steps(1) infinite;\n",
              "  }\n",
              "\n",
              "  @keyframes spin {\n",
              "    0% {\n",
              "      border-color: transparent;\n",
              "      border-bottom-color: var(--fill-color);\n",
              "      border-left-color: var(--fill-color);\n",
              "    }\n",
              "    20% {\n",
              "      border-color: transparent;\n",
              "      border-left-color: var(--fill-color);\n",
              "      border-top-color: var(--fill-color);\n",
              "    }\n",
              "    30% {\n",
              "      border-color: transparent;\n",
              "      border-left-color: var(--fill-color);\n",
              "      border-top-color: var(--fill-color);\n",
              "      border-right-color: var(--fill-color);\n",
              "    }\n",
              "    40% {\n",
              "      border-color: transparent;\n",
              "      border-right-color: var(--fill-color);\n",
              "      border-top-color: var(--fill-color);\n",
              "    }\n",
              "    60% {\n",
              "      border-color: transparent;\n",
              "      border-right-color: var(--fill-color);\n",
              "    }\n",
              "    80% {\n",
              "      border-color: transparent;\n",
              "      border-right-color: var(--fill-color);\n",
              "      border-bottom-color: var(--fill-color);\n",
              "    }\n",
              "    90% {\n",
              "      border-color: transparent;\n",
              "      border-bottom-color: var(--fill-color);\n",
              "    }\n",
              "  }\n",
              "</style>\n",
              "\n",
              "  <script>\n",
              "    async function quickchart(key) {\n",
              "      const quickchartButtonEl =\n",
              "        document.querySelector('#' + key + ' button');\n",
              "      quickchartButtonEl.disabled = true;  // To prevent multiple clicks.\n",
              "      quickchartButtonEl.classList.add('colab-df-spinner');\n",
              "      try {\n",
              "        const charts = await google.colab.kernel.invokeFunction(\n",
              "            'suggestCharts', [key], {});\n",
              "      } catch (error) {\n",
              "        console.error('Error during call to suggestCharts:', error);\n",
              "      }\n",
              "      quickchartButtonEl.classList.remove('colab-df-spinner');\n",
              "      quickchartButtonEl.classList.add('colab-df-quickchart-complete');\n",
              "    }\n",
              "    (() => {\n",
              "      let quickchartButtonEl =\n",
              "        document.querySelector('#df-032ee47a-ba9a-4fe9-8d92-2a303d1c7e21 button');\n",
              "      quickchartButtonEl.style.display =\n",
              "        google.colab.kernel.accessAllowed ? 'block' : 'none';\n",
              "    })();\n",
              "  </script>\n",
              "</div>\n",
              "    </div>\n",
              "  </div>\n"
            ]
          },
          "metadata": {},
          "execution_count": 8
        }
      ]
    },
    {
      "cell_type": "code",
      "source": [
        "# creating feature variables\n",
        "X = df.drop('Y house price of unit area',axis= 1)\n",
        "y = df['Y house price of unit area']\n",
        "print(X)\n",
        "print(y)\n"
      ],
      "metadata": {
        "id": "c_KBpC0UBB2l",
        "outputId": "212e8fa4-1a14-44bd-d41c-8358297f1a4e",
        "colab": {
          "base_uri": "https://localhost:8080/"
        }
      },
      "execution_count": null,
      "outputs": [
        {
          "output_type": "stream",
          "name": "stdout",
          "text": [
            "     X1 transaction date  X2 house age  \\\n",
            "0               2012.917          32.0   \n",
            "1               2012.917          19.5   \n",
            "2               2013.583          13.3   \n",
            "3               2013.500          13.3   \n",
            "4               2012.833           5.0   \n",
            "..                   ...           ...   \n",
            "409             2013.000          13.7   \n",
            "410             2012.667           5.6   \n",
            "411             2013.250          18.8   \n",
            "412             2013.000           8.1   \n",
            "413             2013.500           6.5   \n",
            "\n",
            "     X3 distance to the nearest MRT station  X4 number of convenience stores  \\\n",
            "0                                  84.87882                               10   \n",
            "1                                 306.59470                                9   \n",
            "2                                 561.98450                                5   \n",
            "3                                 561.98450                                5   \n",
            "4                                 390.56840                                5   \n",
            "..                                      ...                              ...   \n",
            "409                              4082.01500                                0   \n",
            "410                                90.45606                                9   \n",
            "411                               390.96960                                7   \n",
            "412                               104.81010                                5   \n",
            "413                                90.45606                                9   \n",
            "\n",
            "     X5 latitude  X6 longitude  \n",
            "0       24.98298     121.54024  \n",
            "1       24.98034     121.53951  \n",
            "2       24.98746     121.54391  \n",
            "3       24.98746     121.54391  \n",
            "4       24.97937     121.54245  \n",
            "..           ...           ...  \n",
            "409     24.94155     121.50381  \n",
            "410     24.97433     121.54310  \n",
            "411     24.97923     121.53986  \n",
            "412     24.96674     121.54067  \n",
            "413     24.97433     121.54310  \n",
            "\n",
            "[414 rows x 6 columns]\n",
            "0      37.9\n",
            "1      42.2\n",
            "2      47.3\n",
            "3      54.8\n",
            "4      43.1\n",
            "       ... \n",
            "409    15.4\n",
            "410    50.0\n",
            "411    40.6\n",
            "412    52.5\n",
            "413    63.9\n",
            "Name: Y house price of unit area, Length: 414, dtype: float64\n"
          ]
        }
      ]
    },
    {
      "cell_type": "code",
      "source": [
        "# creating train and test sets\n",
        "X_train, X_test, y_train, y_test = train_test_split( X, y, test_size=0.3, random_state=101)\n"
      ],
      "metadata": {
        "id": "Yg_Fjff8BFGq"
      },
      "execution_count": null,
      "outputs": []
    },
    {
      "cell_type": "code",
      "source": [
        "# creating a regression model\n",
        "model = LinearRegression()\n"
      ],
      "metadata": {
        "id": "7NrT5tRwBFgi"
      },
      "execution_count": null,
      "outputs": []
    },
    {
      "cell_type": "code",
      "source": [
        "# fitting the model\n",
        "model.fit(X_train,y_train)\n"
      ],
      "metadata": {
        "id": "HhekXk7FBJY0",
        "outputId": "c1c137cc-a265-4aed-8267-80261a9991b1",
        "colab": {
          "base_uri": "https://localhost:8080/",
          "height": 75
        }
      },
      "execution_count": null,
      "outputs": [
        {
          "output_type": "execute_result",
          "data": {
            "text/plain": [
              "LinearRegression()"
            ],
            "text/html": [
              "<style>#sk-container-id-1 {color: black;background-color: white;}#sk-container-id-1 pre{padding: 0;}#sk-container-id-1 div.sk-toggleable {background-color: white;}#sk-container-id-1 label.sk-toggleable__label {cursor: pointer;display: block;width: 100%;margin-bottom: 0;padding: 0.3em;box-sizing: border-box;text-align: center;}#sk-container-id-1 label.sk-toggleable__label-arrow:before {content: \"▸\";float: left;margin-right: 0.25em;color: #696969;}#sk-container-id-1 label.sk-toggleable__label-arrow:hover:before {color: black;}#sk-container-id-1 div.sk-estimator:hover label.sk-toggleable__label-arrow:before {color: black;}#sk-container-id-1 div.sk-toggleable__content {max-height: 0;max-width: 0;overflow: hidden;text-align: left;background-color: #f0f8ff;}#sk-container-id-1 div.sk-toggleable__content pre {margin: 0.2em;color: black;border-radius: 0.25em;background-color: #f0f8ff;}#sk-container-id-1 input.sk-toggleable__control:checked~div.sk-toggleable__content {max-height: 200px;max-width: 100%;overflow: auto;}#sk-container-id-1 input.sk-toggleable__control:checked~label.sk-toggleable__label-arrow:before {content: \"▾\";}#sk-container-id-1 div.sk-estimator input.sk-toggleable__control:checked~label.sk-toggleable__label {background-color: #d4ebff;}#sk-container-id-1 div.sk-label input.sk-toggleable__control:checked~label.sk-toggleable__label {background-color: #d4ebff;}#sk-container-id-1 input.sk-hidden--visually {border: 0;clip: rect(1px 1px 1px 1px);clip: rect(1px, 1px, 1px, 1px);height: 1px;margin: -1px;overflow: hidden;padding: 0;position: absolute;width: 1px;}#sk-container-id-1 div.sk-estimator {font-family: monospace;background-color: #f0f8ff;border: 1px dotted black;border-radius: 0.25em;box-sizing: border-box;margin-bottom: 0.5em;}#sk-container-id-1 div.sk-estimator:hover {background-color: #d4ebff;}#sk-container-id-1 div.sk-parallel-item::after {content: \"\";width: 100%;border-bottom: 1px solid gray;flex-grow: 1;}#sk-container-id-1 div.sk-label:hover label.sk-toggleable__label {background-color: #d4ebff;}#sk-container-id-1 div.sk-serial::before {content: \"\";position: absolute;border-left: 1px solid gray;box-sizing: border-box;top: 0;bottom: 0;left: 50%;z-index: 0;}#sk-container-id-1 div.sk-serial {display: flex;flex-direction: column;align-items: center;background-color: white;padding-right: 0.2em;padding-left: 0.2em;position: relative;}#sk-container-id-1 div.sk-item {position: relative;z-index: 1;}#sk-container-id-1 div.sk-parallel {display: flex;align-items: stretch;justify-content: center;background-color: white;position: relative;}#sk-container-id-1 div.sk-item::before, #sk-container-id-1 div.sk-parallel-item::before {content: \"\";position: absolute;border-left: 1px solid gray;box-sizing: border-box;top: 0;bottom: 0;left: 50%;z-index: -1;}#sk-container-id-1 div.sk-parallel-item {display: flex;flex-direction: column;z-index: 1;position: relative;background-color: white;}#sk-container-id-1 div.sk-parallel-item:first-child::after {align-self: flex-end;width: 50%;}#sk-container-id-1 div.sk-parallel-item:last-child::after {align-self: flex-start;width: 50%;}#sk-container-id-1 div.sk-parallel-item:only-child::after {width: 0;}#sk-container-id-1 div.sk-dashed-wrapped {border: 1px dashed gray;margin: 0 0.4em 0.5em 0.4em;box-sizing: border-box;padding-bottom: 0.4em;background-color: white;}#sk-container-id-1 div.sk-label label {font-family: monospace;font-weight: bold;display: inline-block;line-height: 1.2em;}#sk-container-id-1 div.sk-label-container {text-align: center;}#sk-container-id-1 div.sk-container {/* jupyter's `normalize.less` sets `[hidden] { display: none; }` but bootstrap.min.css set `[hidden] { display: none !important; }` so we also need the `!important` here to be able to override the default hidden behavior on the sphinx rendered scikit-learn.org. See: https://github.com/scikit-learn/scikit-learn/issues/21755 */display: inline-block !important;position: relative;}#sk-container-id-1 div.sk-text-repr-fallback {display: none;}</style><div id=\"sk-container-id-1\" class=\"sk-top-container\"><div class=\"sk-text-repr-fallback\"><pre>LinearRegression()</pre><b>In a Jupyter environment, please rerun this cell to show the HTML representation or trust the notebook. <br />On GitHub, the HTML representation is unable to render, please try loading this page with nbviewer.org.</b></div><div class=\"sk-container\" hidden><div class=\"sk-item\"><div class=\"sk-estimator sk-toggleable\"><input class=\"sk-toggleable__control sk-hidden--visually\" id=\"sk-estimator-id-1\" type=\"checkbox\" checked><label for=\"sk-estimator-id-1\" class=\"sk-toggleable__label sk-toggleable__label-arrow\">LinearRegression</label><div class=\"sk-toggleable__content\"><pre>LinearRegression()</pre></div></div></div></div></div>"
            ]
          },
          "metadata": {},
          "execution_count": 12
        }
      ]
    },
    {
      "cell_type": "code",
      "source": [
        "# making predictions\n",
        "predictions = model.predict(X_test)\n",
        "print(predictions)"
      ],
      "metadata": {
        "id": "JrVE_GDEBLBy",
        "outputId": "07f1b9a2-48a7-4ac3-9184-d158cfb290eb",
        "colab": {
          "base_uri": "https://localhost:8080/"
        }
      },
      "execution_count": null,
      "outputs": [
        {
          "output_type": "stream",
          "name": "stdout",
          "text": [
            "[12.63830383 10.0304461  22.98807375 48.50264837 32.67140451 37.82572669\n",
            " 36.09178068 41.05953639 47.84830793 40.4574746  45.0361603  32.86533457\n",
            " 40.48623576 36.48827849 44.30595729 46.59668235 38.42798244 44.26307337\n",
            " 48.81959723 45.50409246 42.23260833 54.6526397  48.07373298 37.48194231\n",
            " 33.57091525 48.26293154 40.23479801 50.42675437 47.22333423 38.99458517\n",
            " 48.11033139 40.47035604 45.61060308 43.98441528 46.54336092  8.18725886\n",
            " 38.08375879 39.82608171  8.5339677  55.72740213 32.17950939 49.72698264\n",
            " 24.85604948 47.64473233 41.23026871 51.17703175 42.04716292 37.32689765\n",
            " 44.24427856 36.27028988 47.55408451 34.74054504 43.53329366 15.95586215\n",
            " 38.29001222 48.93912385 44.69790471 44.91934627 45.33972278 41.33035787\n",
            " 34.39899173 44.02303164 41.99940522 43.9553153  53.61420366 44.24994361\n",
            " 24.68926603 47.06140631 31.22031534 40.4930635  43.12220556 48.76235412\n",
            " 15.60855454 35.80561434 12.76370021 42.89308611 34.43839965 45.9734211\n",
            " 44.1928161  12.0736566  47.42677323 38.74415932 43.93495232 26.95553667\n",
            " 52.50729872 15.98006429 36.58145675 30.87406656 37.39582323 12.93036536\n",
            " 46.2014402  33.2425385  43.07876464 24.18055926 32.0791477  31.94846605\n",
            " 24.19775376 44.7578954  30.27124305 37.5875205  46.27784489 29.81168651\n",
            " 38.76038694 39.44063357 48.40808813 28.84884665 26.98522519 31.25467948\n",
            " 33.80668812 40.09617228 46.6934425  44.73762204 49.07685066 34.5789675\n",
            " 45.82241719 41.27851262 42.7603896  47.44181001 40.32886602 45.4942412\n",
            " 51.62507832 41.31454145 30.37857322 16.0075392  35.30473459]\n"
          ]
        }
      ]
    },
    {
      "cell_type": "markdown",
      "source": [
        "The multi-linear regression model is evaluated with mean_squared_error and mean_absolute_error metric. when compared with the mean of the target variable, we’ll understand how well our model is predicting. mean_squared_error is the mean of the sum of residuals. mean_absolute_error is the mean of the absolute errors of the model. The less the error, the better the model performance is."
      ],
      "metadata": {
        "id": "p_jvOHSOBoSZ"
      }
    },
    {
      "cell_type": "markdown",
      "source": [
        "mean absolute error = it’s the mean of the sum of the absolute values of residuals."
      ],
      "metadata": {
        "id": "2WbK9ueqBssn"
      }
    },
    {
      "cell_type": "markdown",
      "source": [
        "![image.png](data:image/png;base64,iVBORw0KGgoAAAANSUhEUgAAAQAAAABzCAIAAAD40UvqAAARUElEQVR4Ae1d+VMUxxfPnzJbNb9BFT9AFVplwXepWgurUEpqE82hRkRFiDEY41GixjNqYsR4cMXEAwXlqxj4gjcgggmCikCCgsZFxeVcwGWBZY/5VtLmZZzZo2dmd3ZWHjWlPd2vX7/36f7s9PT08R5H/Vfd7KhudlCLoyAioAYCtgmuutnR2O6UV9h79NmQAPRYoaRqCCABVIMaC9IiAkgALdYK2qQaAkgA1aDGgrSIABJAi7WCNqmGABJANaixIC0igATQYq2gTaohgARQDWosSIsIIAGCVSuDg4O5ufkLP/x467btAwMDHMc5HI7i4pLU1LTU1LTy8oqpqalglY16qRFAAlBDJUXQZDLFxesZHUuuI0ePjY6Ovv/BQohhdGxlZZUUlSgbFASQAIGHdXJyMjomNnFOkslkSk1NY3TsqlWZRuOC6JjY+oaGjo4OQoOMzNWBLxs1SkQACSARMDrxX3/9zWIZ5jiOEIDRsdExsc+fvyC55yWnMDp2WdoKOmUoFUQEkABBBJfjuBkzZ5Hf+/r6BiiJRO7dtx9iMBAqBJAAQUS+r6+ftP41a7KgmP7+N5Fll36BSAyECgEkQBCRv3btOiFAbe0tKObq1WskEnpEkIQB9RFAAgQR87379pO27nD8uxBix85djI6dMXNWEAtG1dQIIAGooZIuOD/FyOjYTxYt4WdNnJPE6Nj16zfyIzEcKgSQAMFCfnx8nPz85+T8AGVMTU2RyJJz5zmOm5ycdLvdkIoB9RFAAgQL86amJtLWa2pqoYyuricksq7u9tDQUOKcpEOHDkMqBtRHAAkQLMzz8wtJWx8aGoIyBgcHSWTinKTomNjomNjOzi5IxYD6CCABgoV55mefMzo2Ll4vKCA7eyvhQGpqmtlsFqTircoIIAFUBvyv4sxms81mC0HBWKQIASSACBKMmE4IIAGmU22jryIEkAAiSDBiOiGABJhOtY2+ihBAAoggwYjphAASYDrVNvoqQgAJIIIEI8IQAfJpRfa/uDluGNY5msxDQHbTJxmRADwsMTidEMAu0HSqbfRVhAASQAQJRkwnBJAA06m20VcRAkgAESQYMZ0QQAJMp9pGX0UIIAFEkGDEdEIACTCdaht9FSHAJ4DD4fh6+46vt+/YtWvPyMiISNZDhBZPiTSbe48eyz16LDcvr8DhlHn8pQdffUZVVV0mhSr5d3R01Gch/hNbWh4SA8rKLvmXRgmO4xNgYmICPqg137tHA08gCTA2NnYsN2/nzt00BfuQycn5gbgRF693uVw+JAOYRHZAAfjkBV6+fKnQpBMnTpKiF374sUJV0yS7JgjgdrsrKv4XHRNLKk8J9A6nE/Tk5uYrUSUp76nTRYJGHxevT5qb7PEiK+IF8oyORQJIwjwgwqEnwOPHjxd++DG0hojIKCWO1dTUgiqzuVeJKkl5nU6n0bgAimZ0rN9HWVfXE8FzAwkgCfOACIeSAK9fv969+xt+oyHbiCtxbNWqTKJQ/c3HYc8f8Kipudm3LxbLMDyv8AngG6sgpYaGAG63u6zsEr/uodEo2TQTNl5mdOz16zeCBJkPtYePHAVHyJ4o4+PjPuQ5jvvppxOQBZ8AvrEKRmpoCAB9nrh4/clTp+vqbkMjUEKAwh+PEz0RkVH8/WiDAZxHnVNTU4bZieALo2P9HgJgtVpBHgngEdWgRoaGABs2bGJ07IHvD8IPJJyoJd5JitJ/t9utTzCQxrR//3eUuQIu1tLyEBo0CTx40OK7FDhFBgngG6hgpIaGAMPDI8+ePeP7Az+csgnQ1NwMLe/p0z/5yvlhs7nX48PB5XKZzb0B2a9K8GKjTzBMTk7ybRCES0rOEctVI4DVah0cHBSY8S7d0jsYGgKIsVZOgPXrN5JmZDQuEOvv6+vfu28/eUREx8SeOHESZHp6etZ9tR7IMy85paOjA1JlBGy2cTgZiaj97sBBH3pcLpf97z/lO0X7/Q5QXl4BD5y4eL3Y0/b23/UJBv51//4DH8ZrLUmqg//RGwrPNpMVYaH8EKaQAKOjo9CCL14sE9RKa2ur+IWbHGLHHzYFDTNmzoK+mUAV5W19fQNoI4G2tnbKvErEfBMADuwA2wyzEwWs6+p6AgwhYnl5BUpMUjOvPAe/2pIX9gSAXgSjY222twZe7t9/QCoyaW4yOZ2F3JaXV1y+cpWE56cYN27aHBEZRW4ZHVtXd1thzZH3HFCYOCdJhZOxfRDgwoWLxJjN2VvgjYvRseJv/m63m/97obxjphBJyuyyHSy93B32BCAHjzI6Njt7qwAv0hAzMleT9get/MD3B0mDgCcGn0VnzxYL9Ei9HR4e4TcjRseqcBSADwIQY34pr+A47vr1G8DMw0eOil0Dy5evSBenajNGnoOpy9Krmx3hTQA4eprRsS0tDwXVY7fbz54tJi++brcbKp4Eyv9uECRLW1s7pJaWXhDokXFbdfkKKCQBcZ9bhlofWXwQYGBgAGbITU5OgmGpqWkChUNDQ5Cq/EkoUB68W3kOXr9xO+wJsHPnblJhhtmJvvF98eIlVK14kL753j1Ibbhzx7cqytSV6Rmgk9GxSXOTgzpB1QcBBAZ/smgJMUw896S29hZJ0icYZM8mbGl5WFNTq+S6e7dJYLOkW0oHrTZXeBNgYmICejUnT532jRF0+hkdq08wTExM8OWLi0ugsQ4PU00H52f3GO7t7QPziPKgvlPSEwDmzDI6VjAkmpG5mphaWVnl0SmayMVLlgKYsgNKZnNROhj2w6AVFf8DfC0Wi++64Y/Q36yuEQhnrV1HVOkTDIIkJbcl586DhYyOFXc5lCgX5KUnwM3qGrCqsfEu6DGbe0m8YXaiU8FqioAQ4NWrV2CY1AClg2FPAHjS8U9j9wYWvCtHREaJx2TgzW/rtu3eNMiId7lcMPWD0bEZmatlKKHMQk+A3t4+IEBR0VnQf+jQYRJfdfkKRMoIVFVdPphzSOGlZIUQpYPhTQBTdzfUYn19g+96stlsICweLHr27BmkKnn0e7QBOhWMjvXxldpjXkmR9ATgOE5MeLvdTiIT5yTJ7v1LMjiowjQOhjcBoJ83Y+Ysv8/r335rhCZ+82a1APpz50shtbe3T5Cq5Lbs0i+g+cKFi0pU+c0riQDLV6QTw2D5WF5eAYl5+FA4mOa3aA0K0DgYxgTgL/7yOJgtqJJjuXnQEPv7+wWp8AIgezKSQCG5NZlMUOgXWV96lAlgpCQCHD78ZvJ2dEwsx3E9PT3EVL9LeQJocFBV0TioFQLARE766dD8WQw9PT1+oYQv/B6LgNk7Gzdt9quKUmBqagreOuLi9a9fv6bMKFtMEgH4r4ljY2OknxYdEzs2NibbAE1lpHFQKwSAsULxsLQ3TGHx16dLl3mTgXin0wlFZK1dB/EkwP/0U3LuPIns6npCwyuBKv4tf2qKOp0KSQR49eoVPJ3g8SgeHON7FF5hGgc1QYDh4RGoCUbH0ozB8xd/Xb5y1W/FPHr0CIo4dbpIIM//lnzjxk2O4zo6OiIio6JjYsmcOYE8zS1/lU9+fiFNFuUykgjAcRz8KBBwMj/7XLkNmtLg18HQE6CjowM6J6Qalq9IN5lMglmKAlj5i7/sdrsgVXzLn+cj/jHm99RXpmccPnKUALd8Rbp4tFSsXBzT398P0C9eslS1ERWpBIBBZEbHRkRG9fUJX43EroVXjF8HQ0aAT5cug34//DbzAxGRUfoEw0cfLRIjzl/8teebvWIBcQx/xr9HwsB8bLBhzZosea3f5XJ9unQZ0UPTqhwOR0FBYUFB4ePOTrHlkmKkEmDPN3vBX+j7SSpR48J+HQwZAeClEyrAW0AMMX/xF2WjSZqbTPR7XC7DcVx5eQUYYDQuKC4u8f0IElsFMfB0YnRsbe0tiPcWaG1rI0UfzDnkTYYyXioBoOv//gcLVXtMUfoSEDG/DoaMAErcg8Vf81OMSvQI8vb39zc23vU7n0KQS3Db2toKRKJ8Op08dZpkKfzxuECb1FtJBLBYLORTUURk1PPnL6SWpX15GgfDjwD8xV/nS/+rqWqwWq2w1iRpbrLHvpbYYNhRS3knhJ4ATqcT+mnv0sgPwEvpYPgRgP86a7VawWEtBOBrGqNjBav+vZnHXzypfAoGPQG+3r6DPHa+/faAN9vCOp7SwfAjAPTmA/jFKiA1XVZ2CTo/+fmFQz7/env7Hj9+fLroDAwWBWQdpjcCWCzDTc3Npu5ujuNcLtd3B96shlu8ZGlQ1ycEBFgaJbIdDDMC8AfsxYtZaZAKkgx/IBVoIDWgfP8FbwQ4fvxnRsfOTzHWNzTAoPO85JSAbAMTJEglqZXtYJgRABZ/6RMMskdpJCFLI2y32+G5JLXR8+U7O7toivMh440A/OmopETD7ETZ3/h8GBCqJNkOhhMB+Iu/jh//OVRYi8s9c6aY345lh81ms1i5pBhvBICJwcS2Xbv2KNz3RZJVKgjLdjCcCHD//oPEOUnkGhgYUAFWyiJKSy+AYUoCymehlV36hRiwY+cuMN5msxlmJ0ZERhlmJ677aj1//RfIhHVAiYN8AjiczqS5yWRTsPb232kwCeQJMTTloQwiEFgE+ASQoRkJIAM0zKIhBJAAGqoMNEV9BJAA6mOOJWoIASSAhioDTVEfASSA+phjiRpCAAmgocpAU9RHAAmgPuZYooYQQAJoqDLQFPURQAKoj7n/Eq1Wq3ZmOvk3N5wlkAAya89kMmWtXZe1dp3yKZxggcVigeNbIiKjVqZn+N3vEfJiQB4CSAB5uHGwl3prW5tMFW9nM5vNZJeATxYtKfzxOEwvVb5K5u1y8O4tBJAAb8FBfwOLvzweukqvByTJHnJG4wKyON3tdsPOXwr354IiMCBGAAkgxoQqZnBwsKenJ1Db6MLpTPwOFewWcSw3j8omFJKOABJAOmZByLE5ewuZqc/ficjlcpEFk4HdrzcI5oexSiSAtMpzOp2bs7d8kfXlyvSM1NQ0JWf48Asme0mI9yyCc1a0tvyfb3xYh5EA0qrPbrfn5xfCmi/+mtrGxruVlVX0F3Sf4OxK8eExW7dtJ2WR9ezSbEVpCgSQABQgiUTIEE3S3GR+Ciw2B3r4DsDBRCMjb/YG3rBhE18hx3HfH8whSvjvBgIZvFWCABJADnqka85fdshx3KnTRRs2bKK/4CTWzs4u0so3Z28RWAM7+4mPtBFI4q08BJAAknGDk1T4h2xL1sLLAKM9W7Zs40X/FSwoeNPdwi9iAmQCdYsEkIxkZWUV+cEOVL8cju8Wn6F0MOcQKeuPPzokG4oZKBBAAlCA9LYI2ZtIfJKNw+l0SPmD2T5wfOWytBVvF8XBPkjwxiwQwFuFCCABJANI3oBXrcoU5JT6EnzxYhloID/zgrdqjuMC/r0ZSsQAQQAJIK0lTE5OksYq3socZi4QAb//njlTDGXPTzESef64Ksdx5PvA+x8sBEkMBBYBJIA0PJ8+/ZO01Lq62xzHTUxMSMvvRbqo6CxRe+fOryACZ52XlV2CSAwEFgEkgDQ8a2tvkZb66NEjU3f3jJmzSksvSFPhSdpisRC1RuMCOPEbXgAEjwVPCjBOJgJIAGnAwWmT85JTIiKj4uL1L1++lKbCizQcKJ/52edXr17bt+9bQommpiYvOTA6AAggASSDuHxFOmmaGZmrA7tF6bVr1+FgbUbHLl6ytKXloWT7MIMUBJAAUtD6R/b58xeB6v3/o/Lf/8fHx03d3e/GuRX/eqXVEBJAqzWDdqmCABJAFZixEK0igATQas2gXaoggARQBWYsRKsIqE0A27gbL0RAUwhUNzsa253yGCr5gIzqZgdeiIDWEFCDAI2/O/FCBDSLQNCfAPIKwFyIgJYRkNAF0rIbaBsiIA8BJIA83DDXO4IAEuAdqUh0Qx4CSAB5uGGudwSB/wNnAF4myzGv1wAAAABJRU5ErkJggg==)"
      ],
      "metadata": {
        "id": "cq3E6M5kBvN-"
      }
    },
    {
      "cell_type": "markdown",
      "source": [
        "mean square error =  it’s the mean of the sum of the squares of residuals"
      ],
      "metadata": {
        "id": "9Hh-HjGIBxNF"
      }
    },
    {
      "cell_type": "markdown",
      "source": [
        "![image.png](data:image/png;base64,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)"
      ],
      "metadata": {
        "id": "ngwcF9T6BzcD"
      }
    },
    {
      "cell_type": "markdown",
      "source": [
        "1. y= actual value\n",
        "2. y hat = predictions"
      ],
      "metadata": {
        "id": "BhSD1eGIB3pu"
      }
    },
    {
      "cell_type": "code",
      "source": [
        "# model evaluation\n",
        "print(\n",
        "'mean_squared_error : ', mean_squared_error(y_test, predictions))\n",
        "print(\n",
        "'mean_absolute_error : ', mean_absolute_error(y_test, predictions))\n"
      ],
      "metadata": {
        "id": "vUMfmdCzBNCd",
        "outputId": "8499ece6-6f93-4e81-86b6-4376feb14b60",
        "colab": {
          "base_uri": "https://localhost:8080/"
        }
      },
      "execution_count": null,
      "outputs": [
        {
          "output_type": "stream",
          "name": "stdout",
          "text": [
            "mean_squared_error :  46.21179783492909\n",
            "mean_absolute_error :  5.392293684756193\n"
          ]
        }
      ]
    },
    {
      "cell_type": "code",
      "source": [
        "df.columns"
      ],
      "metadata": {
        "id": "K1BQZCk8DkAu",
        "outputId": "33ad25b6-49b8-4a4d-c8fc-3109a58734fe",
        "colab": {
          "base_uri": "https://localhost:8080/"
        }
      },
      "execution_count": null,
      "outputs": [
        {
          "output_type": "execute_result",
          "data": {
            "text/plain": [
              "Index(['X1 transaction date', 'X2 house age',\n",
              "       'X3 distance to the nearest MRT station',\n",
              "       'X4 number of convenience stores', 'X5 latitude', 'X6 longitude',\n",
              "       'Y house price of unit area'],\n",
              "      dtype='object')"
            ]
          },
          "metadata": {},
          "execution_count": 15
        }
      ]
    },
    {
      "cell_type": "code",
      "source": [
        "# Scatter plot between predicted values and true values\n",
        "plt.figure(figsize=(8, 6))\n",
        "plt.scatter(y_test, predictions, color='blue')\n",
        "plt.title(\"True Values vs. Predicted Values\")\n",
        "plt.xlabel(\"True Values\")\n",
        "plt.ylabel(\"Predicted Values\")\n",
        "plt.show()"
      ],
      "metadata": {
        "id": "-TUE3ffoBP6p",
        "outputId": "c4f22407-ca84-48a6-8185-5332ecb6ccc4",
        "colab": {
          "base_uri": "https://localhost:8080/",
          "height": 564
        }
      },
      "execution_count": null,
      "outputs": [
        {
          "output_type": "display_data",
          "data": {
            "text/plain": [
              "<Figure size 800x600 with 1 Axes>"
            ],
            "image/png": "[encoded data removed]"
          },
          "metadata": {}
        }
      ]
    },
    {
      "cell_type": "code",
      "source": [
        "# Scatter plot between predicted values and true values with a red line\n",
        "plt.figure(figsize=(8, 6))\n",
        "plt.scatter(y_test, predictions, color='blue')\n",
        "plt.plot([min(y_test), max(y_test)], [min(y_test), max(y_test)], color='red', linestyle='--', lw=2)\n",
        "plt.title(\"True Values vs. Predicted Values\")\n",
        "plt.xlabel(\"True Values\")\n",
        "plt.ylabel(\"Predicted Values\")\n",
        "plt.show()"
      ],
      "metadata": {
        "id": "d8PtotqrEQcf",
        "outputId": "64bc0f71-fab2-4297-ba0e-801026b19abd",
        "colab": {
          "base_uri": "https://localhost:8080/",
          "height": 564
        }
      },
      "execution_count": null,
      "outputs": [
        {
          "output_type": "display_data",
          "data": {
            "text/plain": [
              "<Figure size 800x600 with 1 Axes>"
            ],
            "image/png": "[encoded data removed]"
          },
          "metadata": {}
        }
      ]
    }
  ]
}